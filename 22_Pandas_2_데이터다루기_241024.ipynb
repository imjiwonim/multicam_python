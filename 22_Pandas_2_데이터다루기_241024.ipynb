{
 "cells": [
  {
   "cell_type": "markdown",
   "id": "982eb287",
   "metadata": {},
   "source": [
    "# 2. 데이터 다루기"
   ]
  },
  {
   "cell_type": "markdown",
   "id": "f4eee928",
   "metadata": {},
   "source": [
    "#### 2-1 Series 만들기"
   ]
  },
  {
   "cell_type": "markdown",
   "id": "19a11582",
   "metadata": {},
   "source": [
    "- 1차원 자료 : 리스트와 유사, 넘파이의 어레이를 기본으로 만들어짐\n",
    "- 한 열의 데이터는 모두 동일한 타입"
   ]
  },
  {
   "cell_type": "code",
   "execution_count": 8,
   "id": "36a80d89",
   "metadata": {},
   "outputs": [],
   "source": [
    "import pandas as pd"
   ]
  },
  {
   "cell_type": "code",
   "execution_count": 10,
   "id": "4abd0d1b",
   "metadata": {},
   "outputs": [
    {
     "data": {
      "text/plain": [
       "pandas.core.series.Series"
      ]
     },
     "execution_count": 10,
     "metadata": {},
     "output_type": "execute_result"
    }
   ],
   "source": [
    "a = pd.Series(['banana',10])\n",
    "type(a)"
   ]
  },
  {
   "cell_type": "code",
   "execution_count": 12,
   "id": "d904315d",
   "metadata": {},
   "outputs": [
    {
     "data": {
      "text/plain": [
       "0    banana\n",
       "1        10\n",
       "dtype: object"
      ]
     },
     "execution_count": 12,
     "metadata": {},
     "output_type": "execute_result"
    }
   ],
   "source": [
    "a"
   ]
  },
  {
   "cell_type": "code",
   "execution_count": 14,
   "id": "248f4e40",
   "metadata": {},
   "outputs": [
    {
     "data": {
      "text/plain": [
       "a    홍길동\n",
       "b    김철수\n",
       "dtype: object"
      ]
     },
     "execution_count": 14,
     "metadata": {},
     "output_type": "execute_result"
    }
   ],
   "source": [
    "b = pd.Series(data = ['홍길동','김철수'], index = ['a', 'b'])\n",
    "b"
   ]
  },
  {
   "cell_type": "code",
   "execution_count": 16,
   "id": "960d9419",
   "metadata": {},
   "outputs": [
    {
     "data": {
      "text/plain": [
       "a    홍길동\n",
       "b    김철수\n",
       "dtype: object"
      ]
     },
     "execution_count": 16,
     "metadata": {},
     "output_type": "execute_result"
    }
   ],
   "source": [
    "b.head()"
   ]
  },
  {
   "cell_type": "code",
   "execution_count": 18,
   "id": "ca4511b6",
   "metadata": {},
   "outputs": [
    {
     "data": {
      "text/plain": [
       "'홍길동'"
      ]
     },
     "execution_count": 18,
     "metadata": {},
     "output_type": "execute_result"
    }
   ],
   "source": [
    "b.loc['a']"
   ]
  },
  {
   "cell_type": "code",
   "execution_count": 20,
   "id": "ad292bd3",
   "metadata": {},
   "outputs": [
    {
     "data": {
      "text/plain": [
       "'홍길동'"
      ]
     },
     "execution_count": 20,
     "metadata": {},
     "output_type": "execute_result"
    }
   ],
   "source": [
    "b.iloc[0]"
   ]
  },
  {
   "cell_type": "code",
   "execution_count": 22,
   "id": "7fb67cd6",
   "metadata": {},
   "outputs": [],
   "source": [
    "scientists = pd.DataFrame({\n",
    "        \"Name\": [\"Rosaline Franklin\", \"William Gosset\"],\n",
    "        \"Occupation\": [\"Chemist\", \"Statistician\"],\n",
    "        \"Born\": [\"1920-07-25\", \"1876-06-13\"],\n",
    "        \"Died\": [\"1958-04-16\", \"1937-10-16\"],\n",
    "        \"Age\": [37, 61],\n",
    "})"
   ]
  },
  {
   "cell_type": "code",
   "execution_count": 24,
   "id": "c6266c58",
   "metadata": {},
   "outputs": [
    {
     "data": {
      "text/plain": [
       "Index(['Name', 'Occupation', 'Born', 'Died', 'Age'], dtype='object')"
      ]
     },
     "execution_count": 24,
     "metadata": {},
     "output_type": "execute_result"
    }
   ],
   "source": [
    "scientists.columns"
   ]
  },
  {
   "cell_type": "code",
   "execution_count": 26,
   "id": "776c6ce3",
   "metadata": {},
   "outputs": [
    {
     "name": "stdout",
     "output_type": "stream",
     "text": [
      "<class 'pandas.core.frame.DataFrame'>\n",
      "RangeIndex: 2 entries, 0 to 1\n",
      "Data columns (total 5 columns):\n",
      " #   Column      Non-Null Count  Dtype \n",
      "---  ------      --------------  ----- \n",
      " 0   Name        2 non-null      object\n",
      " 1   Occupation  2 non-null      object\n",
      " 2   Born        2 non-null      object\n",
      " 3   Died        2 non-null      object\n",
      " 4   Age         2 non-null      int64 \n",
      "dtypes: int64(1), object(4)\n",
      "memory usage: 212.0+ bytes\n"
     ]
    }
   ],
   "source": [
    "scientists.info()"
   ]
  },
  {
   "cell_type": "code",
   "execution_count": 28,
   "id": "688a4f97",
   "metadata": {},
   "outputs": [],
   "source": [
    "scientists = pd.DataFrame(\n",
    "    data = {\n",
    "        \"Occupation\": [\"Chemist\", \"Statistician\"],\n",
    "        \"Born\": [\"1920-07-25\", \"1876-06-13\"],\n",
    "        \"Died\": [\"1958-04-16\", \"1937-10-16\"],\n",
    "        \"Age\": [37, 61],\n",
    "}\n",
    " , index = [\"Rosaline Franklin\", \"William Gosset\"])"
   ]
  },
  {
   "cell_type": "code",
   "execution_count": 30,
   "id": "c9f64ee4",
   "metadata": {},
   "outputs": [
    {
     "data": {
      "text/html": [
       "<div>\n",
       "<style scoped>\n",
       "    .dataframe tbody tr th:only-of-type {\n",
       "        vertical-align: middle;\n",
       "    }\n",
       "\n",
       "    .dataframe tbody tr th {\n",
       "        vertical-align: top;\n",
       "    }\n",
       "\n",
       "    .dataframe thead th {\n",
       "        text-align: right;\n",
       "    }\n",
       "</style>\n",
       "<table border=\"1\" class=\"dataframe\">\n",
       "  <thead>\n",
       "    <tr style=\"text-align: right;\">\n",
       "      <th></th>\n",
       "      <th>Occupation</th>\n",
       "      <th>Born</th>\n",
       "      <th>Died</th>\n",
       "      <th>Age</th>\n",
       "    </tr>\n",
       "  </thead>\n",
       "  <tbody>\n",
       "    <tr>\n",
       "      <th>Rosaline Franklin</th>\n",
       "      <td>Chemist</td>\n",
       "      <td>1920-07-25</td>\n",
       "      <td>1958-04-16</td>\n",
       "      <td>37</td>\n",
       "    </tr>\n",
       "    <tr>\n",
       "      <th>William Gosset</th>\n",
       "      <td>Statistician</td>\n",
       "      <td>1876-06-13</td>\n",
       "      <td>1937-10-16</td>\n",
       "      <td>61</td>\n",
       "    </tr>\n",
       "  </tbody>\n",
       "</table>\n",
       "</div>"
      ],
      "text/plain": [
       "                     Occupation        Born        Died  Age\n",
       "Rosaline Franklin       Chemist  1920-07-25  1958-04-16   37\n",
       "William Gosset     Statistician  1876-06-13  1937-10-16   61"
      ]
     },
     "execution_count": 30,
     "metadata": {},
     "output_type": "execute_result"
    }
   ],
   "source": [
    "scientists"
   ]
  },
  {
   "cell_type": "code",
   "execution_count": 32,
   "id": "65d77039",
   "metadata": {},
   "outputs": [
    {
     "data": {
      "text/plain": [
       "Occupation       Chemist\n",
       "Born          1920-07-25\n",
       "Died          1958-04-16\n",
       "Age                   37\n",
       "Name: Rosaline Franklin, dtype: object"
      ]
     },
     "execution_count": 32,
     "metadata": {},
     "output_type": "execute_result"
    }
   ],
   "source": [
    "sc_row = scientists.loc['Rosaline Franklin']\n",
    "sc_row"
   ]
  },
  {
   "cell_type": "code",
   "execution_count": 34,
   "id": "1f7858af",
   "metadata": {},
   "outputs": [
    {
     "data": {
      "text/plain": [
       "array(['Chemist', '1920-07-25', '1958-04-16', 37], dtype=object)"
      ]
     },
     "execution_count": 34,
     "metadata": {},
     "output_type": "execute_result"
    }
   ],
   "source": [
    "sc_row.values"
   ]
  },
  {
   "cell_type": "code",
   "execution_count": 36,
   "id": "04ebb831",
   "metadata": {},
   "outputs": [
    {
     "data": {
      "text/plain": [
       "Index(['Occupation', 'Born', 'Died', 'Age'], dtype='object')"
      ]
     },
     "execution_count": 36,
     "metadata": {},
     "output_type": "execute_result"
    }
   ],
   "source": [
    "sc_row.index"
   ]
  },
  {
   "cell_type": "code",
   "execution_count": 38,
   "id": "fb93a84e",
   "metadata": {},
   "outputs": [
    {
     "data": {
      "text/plain": [
       "Index(['Occupation', 'Born', 'Died', 'Age'], dtype='object')"
      ]
     },
     "execution_count": 38,
     "metadata": {},
     "output_type": "execute_result"
    }
   ],
   "source": [
    "# keys() 메소드는 index 속성과 같은 역할이다.\n",
    "sc_row.keys()"
   ]
  },
  {
   "cell_type": "code",
   "execution_count": 40,
   "id": "7d8772d5",
   "metadata": {},
   "outputs": [
    {
     "data": {
      "text/plain": [
       "<bound method Series.keys of Occupation       Chemist\n",
       "Born          1920-07-25\n",
       "Died          1958-04-16\n",
       "Age                   37\n",
       "Name: Rosaline Franklin, dtype: object>"
      ]
     },
     "execution_count": 40,
     "metadata": {},
     "output_type": "execute_result"
    }
   ],
   "source": [
    "sc_row.keys"
   ]
  },
  {
   "cell_type": "code",
   "execution_count": 42,
   "id": "a0ebab3d",
   "metadata": {},
   "outputs": [
    {
     "data": {
      "text/plain": [
       "37"
      ]
     },
     "execution_count": 42,
     "metadata": {},
     "output_type": "execute_result"
    }
   ],
   "source": [
    "sc_row.loc['Age']"
   ]
  },
  {
   "cell_type": "code",
   "execution_count": 44,
   "id": "9dd95d22",
   "metadata": {},
   "outputs": [
    {
     "data": {
      "text/plain": [
       "Rosaline Franklin    37\n",
       "William Gosset       61\n",
       "Name: Age, dtype: int64"
      ]
     },
     "execution_count": 44,
     "metadata": {},
     "output_type": "execute_result"
    }
   ],
   "source": [
    "scientists['Age']"
   ]
  },
  {
   "cell_type": "code",
   "execution_count": 46,
   "id": "04adb7a9",
   "metadata": {},
   "outputs": [
    {
     "data": {
      "text/plain": [
       "Rosaline Franklin    37\n",
       "William Gosset       61\n",
       "Name: Age, dtype: int64"
      ]
     },
     "execution_count": 46,
     "metadata": {},
     "output_type": "execute_result"
    }
   ],
   "source": [
    "scientists.loc[:,'Age']"
   ]
  },
  {
   "cell_type": "code",
   "execution_count": 48,
   "id": "d1aebcb2",
   "metadata": {},
   "outputs": [
    {
     "name": "stdout",
     "output_type": "stream",
     "text": [
      "중앙값 : 49.0 \n",
      " 최소값 : 37 \n",
      " 최대값 : 61 \n",
      " 표준편차 : 16.97056274847714\n"
     ]
    }
   ],
   "source": [
    "age = scientists['Age']\n",
    "ageMean = age.mean()\n",
    "ageMin = age.min()\n",
    "ageMax = age.max()\n",
    "ageStd = age.std()\n",
    "\n",
    "print('중앙값 :',ageMean,'\\n','최소값 :', ageMin,'\\n','최대값 :', ageMax,'\\n','표준편차 :', ageStd)"
   ]
  },
  {
   "cell_type": "code",
   "execution_count": 50,
   "id": "51545eb2",
   "metadata": {},
   "outputs": [],
   "source": [
    "scientists2 = pd.read_csv('../data/scientists.csv')"
   ]
  },
  {
   "cell_type": "code",
   "execution_count": 52,
   "id": "80597e80",
   "metadata": {},
   "outputs": [
    {
     "data": {
      "text/html": [
       "<div>\n",
       "<style scoped>\n",
       "    .dataframe tbody tr th:only-of-type {\n",
       "        vertical-align: middle;\n",
       "    }\n",
       "\n",
       "    .dataframe tbody tr th {\n",
       "        vertical-align: top;\n",
       "    }\n",
       "\n",
       "    .dataframe thead th {\n",
       "        text-align: right;\n",
       "    }\n",
       "</style>\n",
       "<table border=\"1\" class=\"dataframe\">\n",
       "  <thead>\n",
       "    <tr style=\"text-align: right;\">\n",
       "      <th></th>\n",
       "      <th>Name</th>\n",
       "      <th>Born</th>\n",
       "      <th>Died</th>\n",
       "      <th>Age</th>\n",
       "      <th>Occupation</th>\n",
       "    </tr>\n",
       "  </thead>\n",
       "  <tbody>\n",
       "    <tr>\n",
       "      <th>0</th>\n",
       "      <td>Rosaline Franklin</td>\n",
       "      <td>1920-07-25</td>\n",
       "      <td>1958-04-16</td>\n",
       "      <td>37</td>\n",
       "      <td>Chemist</td>\n",
       "    </tr>\n",
       "    <tr>\n",
       "      <th>1</th>\n",
       "      <td>William Gosset</td>\n",
       "      <td>1876-06-13</td>\n",
       "      <td>1937-10-16</td>\n",
       "      <td>61</td>\n",
       "      <td>Statistician</td>\n",
       "    </tr>\n",
       "    <tr>\n",
       "      <th>2</th>\n",
       "      <td>Florence Nightingale</td>\n",
       "      <td>1820-05-12</td>\n",
       "      <td>1910-08-13</td>\n",
       "      <td>90</td>\n",
       "      <td>Nurse</td>\n",
       "    </tr>\n",
       "    <tr>\n",
       "      <th>3</th>\n",
       "      <td>Marie Curie</td>\n",
       "      <td>1867-11-07</td>\n",
       "      <td>1934-07-04</td>\n",
       "      <td>66</td>\n",
       "      <td>Chemist</td>\n",
       "    </tr>\n",
       "    <tr>\n",
       "      <th>4</th>\n",
       "      <td>Rachel Carson</td>\n",
       "      <td>1907-05-27</td>\n",
       "      <td>1964-04-14</td>\n",
       "      <td>56</td>\n",
       "      <td>Biologist</td>\n",
       "    </tr>\n",
       "  </tbody>\n",
       "</table>\n",
       "</div>"
      ],
      "text/plain": [
       "                   Name        Born        Died  Age    Occupation\n",
       "0     Rosaline Franklin  1920-07-25  1958-04-16   37       Chemist\n",
       "1        William Gosset  1876-06-13  1937-10-16   61  Statistician\n",
       "2  Florence Nightingale  1820-05-12  1910-08-13   90         Nurse\n",
       "3           Marie Curie  1867-11-07  1934-07-04   66       Chemist\n",
       "4         Rachel Carson  1907-05-27  1964-04-14   56     Biologist"
      ]
     },
     "execution_count": 52,
     "metadata": {},
     "output_type": "execute_result"
    }
   ],
   "source": [
    "scientists2.head()"
   ]
  },
  {
   "cell_type": "code",
   "execution_count": 54,
   "id": "16eeb0c7",
   "metadata": {},
   "outputs": [
    {
     "data": {
      "text/plain": [
       "0    37\n",
       "1    61\n",
       "2    90\n",
       "3    66\n",
       "4    56\n",
       "5    45\n",
       "6    41\n",
       "7    77\n",
       "Name: Age, dtype: int64"
      ]
     },
     "execution_count": 54,
     "metadata": {},
     "output_type": "execute_result"
    }
   ],
   "source": [
    "age = scientists2['Age']\n",
    "age"
   ]
  },
  {
   "cell_type": "code",
   "execution_count": 56,
   "id": "3fe83af2",
   "metadata": {},
   "outputs": [
    {
     "data": {
      "text/plain": [
       "count     8.000000\n",
       "mean     59.125000\n",
       "std      18.325918\n",
       "min      37.000000\n",
       "25%      44.000000\n",
       "50%      58.500000\n",
       "75%      68.750000\n",
       "max      90.000000\n",
       "Name: Age, dtype: float64"
      ]
     },
     "execution_count": 56,
     "metadata": {},
     "output_type": "execute_result"
    }
   ],
   "source": [
    "age.describe()"
   ]
  },
  {
   "cell_type": "code",
   "execution_count": 58,
   "id": "23893847",
   "metadata": {},
   "outputs": [
    {
     "data": {
      "text/plain": [
       "1    61\n",
       "2    90\n",
       "3    66\n",
       "7    77\n",
       "Name: Age, dtype: int64"
      ]
     },
     "execution_count": 58,
     "metadata": {},
     "output_type": "execute_result"
    }
   ],
   "source": [
    "# 벡터화된 값. 불리언값 리스트\n",
    "age[age>age.mean()]"
   ]
  },
  {
   "cell_type": "code",
   "execution_count": 60,
   "id": "6063d4da",
   "metadata": {},
   "outputs": [
    {
     "data": {
      "text/plain": [
       "0     74\n",
       "1    122\n",
       "2    180\n",
       "3    132\n",
       "4    112\n",
       "5     90\n",
       "6     82\n",
       "7    154\n",
       "Name: Age, dtype: int64"
      ]
     },
     "execution_count": 60,
     "metadata": {},
     "output_type": "execute_result"
    }
   ],
   "source": [
    "# vector + vector\n",
    "age + age "
   ]
  },
  {
   "cell_type": "code",
   "execution_count": 62,
   "id": "ed215b64",
   "metadata": {},
   "outputs": [
    {
     "data": {
      "text/plain": [
       "0     47\n",
       "1     71\n",
       "2    100\n",
       "3     76\n",
       "4     66\n",
       "5     55\n",
       "6     51\n",
       "7     87\n",
       "Name: Age, dtype: int64"
      ]
     },
     "execution_count": 62,
     "metadata": {},
     "output_type": "execute_result"
    }
   ],
   "source": [
    "# vector + scala\n",
    "age + 10"
   ]
  },
  {
   "cell_type": "markdown",
   "id": "53905305",
   "metadata": {},
   "source": [
    "#### 2-3. 인덱스"
   ]
  },
  {
   "cell_type": "code",
   "execution_count": 65,
   "id": "1564472d",
   "metadata": {},
   "outputs": [
    {
     "data": {
      "text/plain": [
       "7    77\n",
       "6    41\n",
       "5    45\n",
       "4    56\n",
       "3    66\n",
       "2    90\n",
       "1    61\n",
       "0    37\n",
       "Name: Age, dtype: int64"
      ]
     },
     "execution_count": 65,
     "metadata": {},
     "output_type": "execute_result"
    }
   ],
   "source": [
    "rev_age = age.sort_index(ascending = False)\n",
    "rev_age"
   ]
  },
  {
   "cell_type": "code",
   "execution_count": 67,
   "id": "4ba434c8",
   "metadata": {},
   "outputs": [
    {
     "data": {
      "text/plain": [
       "0     74\n",
       "1    122\n",
       "2    180\n",
       "3    132\n",
       "4    112\n",
       "5     90\n",
       "6     82\n",
       "7    154\n",
       "Name: Age, dtype: int64"
      ]
     },
     "execution_count": 67,
     "metadata": {},
     "output_type": "execute_result"
    }
   ],
   "source": [
    "age * 2"
   ]
  },
  {
   "cell_type": "code",
   "execution_count": 69,
   "id": "8f47e413",
   "metadata": {},
   "outputs": [
    {
     "data": {
      "text/plain": [
       "0     74\n",
       "1    122\n",
       "2    180\n",
       "3    132\n",
       "4    112\n",
       "5     90\n",
       "6     82\n",
       "7    154\n",
       "Name: Age, dtype: int64"
      ]
     },
     "execution_count": 69,
     "metadata": {},
     "output_type": "execute_result"
    }
   ],
   "source": [
    "age + rev_age"
   ]
  },
  {
   "cell_type": "code",
   "execution_count": 71,
   "id": "56f01e9e",
   "metadata": {},
   "outputs": [
    {
     "data": {
      "text/html": [
       "<div>\n",
       "<style scoped>\n",
       "    .dataframe tbody tr th:only-of-type {\n",
       "        vertical-align: middle;\n",
       "    }\n",
       "\n",
       "    .dataframe tbody tr th {\n",
       "        vertical-align: top;\n",
       "    }\n",
       "\n",
       "    .dataframe thead th {\n",
       "        text-align: right;\n",
       "    }\n",
       "</style>\n",
       "<table border=\"1\" class=\"dataframe\">\n",
       "  <thead>\n",
       "    <tr style=\"text-align: right;\">\n",
       "      <th></th>\n",
       "      <th>Name</th>\n",
       "      <th>Born</th>\n",
       "      <th>Died</th>\n",
       "      <th>Age</th>\n",
       "      <th>Occupation</th>\n",
       "    </tr>\n",
       "  </thead>\n",
       "  <tbody>\n",
       "    <tr>\n",
       "      <th>0</th>\n",
       "      <td>Rosaline Franklin</td>\n",
       "      <td>1920-07-25</td>\n",
       "      <td>1958-04-16</td>\n",
       "      <td>37</td>\n",
       "      <td>Chemist</td>\n",
       "    </tr>\n",
       "    <tr>\n",
       "      <th>1</th>\n",
       "      <td>William Gosset</td>\n",
       "      <td>1876-06-13</td>\n",
       "      <td>1937-10-16</td>\n",
       "      <td>61</td>\n",
       "      <td>Statistician</td>\n",
       "    </tr>\n",
       "    <tr>\n",
       "      <th>2</th>\n",
       "      <td>Florence Nightingale</td>\n",
       "      <td>1820-05-12</td>\n",
       "      <td>1910-08-13</td>\n",
       "      <td>90</td>\n",
       "      <td>Nurse</td>\n",
       "    </tr>\n",
       "    <tr>\n",
       "      <th>3</th>\n",
       "      <td>Marie Curie</td>\n",
       "      <td>1867-11-07</td>\n",
       "      <td>1934-07-04</td>\n",
       "      <td>66</td>\n",
       "      <td>Chemist</td>\n",
       "    </tr>\n",
       "  </tbody>\n",
       "</table>\n",
       "</div>"
      ],
      "text/plain": [
       "                   Name        Born        Died  Age    Occupation\n",
       "0     Rosaline Franklin  1920-07-25  1958-04-16   37       Chemist\n",
       "1        William Gosset  1876-06-13  1937-10-16   61  Statistician\n",
       "2  Florence Nightingale  1820-05-12  1910-08-13   90         Nurse\n",
       "3           Marie Curie  1867-11-07  1934-07-04   66       Chemist"
      ]
     },
     "execution_count": 71,
     "metadata": {},
     "output_type": "execute_result"
    }
   ],
   "source": [
    "first_scientists = scientists2[:4]\n",
    "second_scientists = scientists2[4:]\n",
    "first_scientists"
   ]
  },
  {
   "cell_type": "code",
   "execution_count": 73,
   "id": "7baa6c56",
   "metadata": {},
   "outputs": [
    {
     "data": {
      "text/html": [
       "<div>\n",
       "<style scoped>\n",
       "    .dataframe tbody tr th:only-of-type {\n",
       "        vertical-align: middle;\n",
       "    }\n",
       "\n",
       "    .dataframe tbody tr th {\n",
       "        vertical-align: top;\n",
       "    }\n",
       "\n",
       "    .dataframe thead th {\n",
       "        text-align: right;\n",
       "    }\n",
       "</style>\n",
       "<table border=\"1\" class=\"dataframe\">\n",
       "  <thead>\n",
       "    <tr style=\"text-align: right;\">\n",
       "      <th></th>\n",
       "      <th>Name</th>\n",
       "      <th>Born</th>\n",
       "      <th>Died</th>\n",
       "      <th>Age</th>\n",
       "      <th>Occupation</th>\n",
       "    </tr>\n",
       "  </thead>\n",
       "  <tbody>\n",
       "    <tr>\n",
       "      <th>0</th>\n",
       "      <td>Rosaline FranklinRosaline Franklin</td>\n",
       "      <td>1920-07-251920-07-25</td>\n",
       "      <td>1958-04-161958-04-16</td>\n",
       "      <td>74</td>\n",
       "      <td>ChemistChemist</td>\n",
       "    </tr>\n",
       "    <tr>\n",
       "      <th>1</th>\n",
       "      <td>William GossetWilliam Gosset</td>\n",
       "      <td>1876-06-131876-06-13</td>\n",
       "      <td>1937-10-161937-10-16</td>\n",
       "      <td>122</td>\n",
       "      <td>StatisticianStatistician</td>\n",
       "    </tr>\n",
       "    <tr>\n",
       "      <th>2</th>\n",
       "      <td>Florence NightingaleFlorence Nightingale</td>\n",
       "      <td>1820-05-121820-05-12</td>\n",
       "      <td>1910-08-131910-08-13</td>\n",
       "      <td>180</td>\n",
       "      <td>NurseNurse</td>\n",
       "    </tr>\n",
       "    <tr>\n",
       "      <th>3</th>\n",
       "      <td>Marie CurieMarie Curie</td>\n",
       "      <td>1867-11-071867-11-07</td>\n",
       "      <td>1934-07-041934-07-04</td>\n",
       "      <td>132</td>\n",
       "      <td>ChemistChemist</td>\n",
       "    </tr>\n",
       "  </tbody>\n",
       "</table>\n",
       "</div>"
      ],
      "text/plain": [
       "                                       Name                  Born  \\\n",
       "0        Rosaline FranklinRosaline Franklin  1920-07-251920-07-25   \n",
       "1              William GossetWilliam Gosset  1876-06-131876-06-13   \n",
       "2  Florence NightingaleFlorence Nightingale  1820-05-121820-05-12   \n",
       "3                    Marie CurieMarie Curie  1867-11-071867-11-07   \n",
       "\n",
       "                   Died  Age                Occupation  \n",
       "0  1958-04-161958-04-16   74            ChemistChemist  \n",
       "1  1937-10-161937-10-16  122  StatisticianStatistician  \n",
       "2  1910-08-131910-08-13  180                NurseNurse  \n",
       "3  1934-07-041934-07-04  132            ChemistChemist  "
      ]
     },
     "execution_count": 73,
     "metadata": {},
     "output_type": "execute_result"
    }
   ],
   "source": [
    "first_scientists * 2"
   ]
  },
  {
   "cell_type": "code",
   "execution_count": 75,
   "id": "737ab874",
   "metadata": {},
   "outputs": [
    {
     "data": {
      "text/html": [
       "<div>\n",
       "<style scoped>\n",
       "    .dataframe tbody tr th:only-of-type {\n",
       "        vertical-align: middle;\n",
       "    }\n",
       "\n",
       "    .dataframe tbody tr th {\n",
       "        vertical-align: top;\n",
       "    }\n",
       "\n",
       "    .dataframe thead th {\n",
       "        text-align: right;\n",
       "    }\n",
       "</style>\n",
       "<table border=\"1\" class=\"dataframe\">\n",
       "  <thead>\n",
       "    <tr style=\"text-align: right;\">\n",
       "      <th></th>\n",
       "      <th>0</th>\n",
       "      <th>1</th>\n",
       "      <th>2</th>\n",
       "    </tr>\n",
       "  </thead>\n",
       "  <tbody>\n",
       "    <tr>\n",
       "      <th>0</th>\n",
       "      <td>2</td>\n",
       "      <td>4</td>\n",
       "      <td>6</td>\n",
       "    </tr>\n",
       "    <tr>\n",
       "      <th>1</th>\n",
       "      <td>8</td>\n",
       "      <td>10</td>\n",
       "      <td>12</td>\n",
       "    </tr>\n",
       "  </tbody>\n",
       "</table>\n",
       "</div>"
      ],
      "text/plain": [
       "   0   1   2\n",
       "0  2   4   6\n",
       "1  8  10  12"
      ]
     },
     "execution_count": 75,
     "metadata": {},
     "output_type": "execute_result"
    }
   ],
   "source": [
    "df1 = df2 = pd.DataFrame(\n",
    "        data = [\n",
    "            [1,2,3],[4,5,6]\n",
    "            ]\n",
    ")\n",
    "df1.add(df2)"
   ]
  },
  {
   "cell_type": "markdown",
   "id": "09651fd2",
   "metadata": {},
   "source": [
    "#### 2-4. 열 추가"
   ]
  },
  {
   "cell_type": "code",
   "execution_count": 78,
   "id": "92390130",
   "metadata": {},
   "outputs": [
    {
     "data": {
      "text/plain": [
       "0   1920-07-25\n",
       "1   1876-06-13\n",
       "2   1820-05-12\n",
       "3   1867-11-07\n",
       "4   1907-05-27\n",
       "5   1813-03-15\n",
       "6   1912-06-23\n",
       "7   1777-04-30\n",
       "Name: Born, dtype: datetime64[ns]"
      ]
     },
     "execution_count": 78,
     "metadata": {},
     "output_type": "execute_result"
    }
   ],
   "source": [
    "# data type 바꾸기(str -> int)\n",
    "born_date = pd.to_datetime(scientists2['Born'], format = '%Y-%m-%d')\n",
    "born_date"
   ]
  },
  {
   "cell_type": "code",
   "execution_count": 80,
   "id": "9d3d0c43",
   "metadata": {},
   "outputs": [
    {
     "data": {
      "text/html": [
       "<div>\n",
       "<style scoped>\n",
       "    .dataframe tbody tr th:only-of-type {\n",
       "        vertical-align: middle;\n",
       "    }\n",
       "\n",
       "    .dataframe tbody tr th {\n",
       "        vertical-align: top;\n",
       "    }\n",
       "\n",
       "    .dataframe thead th {\n",
       "        text-align: right;\n",
       "    }\n",
       "</style>\n",
       "<table border=\"1\" class=\"dataframe\">\n",
       "  <thead>\n",
       "    <tr style=\"text-align: right;\">\n",
       "      <th></th>\n",
       "      <th>Name</th>\n",
       "      <th>Born</th>\n",
       "      <th>Died</th>\n",
       "      <th>Age</th>\n",
       "      <th>Occupation</th>\n",
       "      <th>BornDate</th>\n",
       "    </tr>\n",
       "  </thead>\n",
       "  <tbody>\n",
       "    <tr>\n",
       "      <th>0</th>\n",
       "      <td>Rosaline Franklin</td>\n",
       "      <td>1920-07-25</td>\n",
       "      <td>1958-04-16</td>\n",
       "      <td>37</td>\n",
       "      <td>Chemist</td>\n",
       "      <td>1920-07-25</td>\n",
       "    </tr>\n",
       "    <tr>\n",
       "      <th>1</th>\n",
       "      <td>William Gosset</td>\n",
       "      <td>1876-06-13</td>\n",
       "      <td>1937-10-16</td>\n",
       "      <td>61</td>\n",
       "      <td>Statistician</td>\n",
       "      <td>1876-06-13</td>\n",
       "    </tr>\n",
       "    <tr>\n",
       "      <th>2</th>\n",
       "      <td>Florence Nightingale</td>\n",
       "      <td>1820-05-12</td>\n",
       "      <td>1910-08-13</td>\n",
       "      <td>90</td>\n",
       "      <td>Nurse</td>\n",
       "      <td>1820-05-12</td>\n",
       "    </tr>\n",
       "    <tr>\n",
       "      <th>3</th>\n",
       "      <td>Marie Curie</td>\n",
       "      <td>1867-11-07</td>\n",
       "      <td>1934-07-04</td>\n",
       "      <td>66</td>\n",
       "      <td>Chemist</td>\n",
       "      <td>1867-11-07</td>\n",
       "    </tr>\n",
       "    <tr>\n",
       "      <th>4</th>\n",
       "      <td>Rachel Carson</td>\n",
       "      <td>1907-05-27</td>\n",
       "      <td>1964-04-14</td>\n",
       "      <td>56</td>\n",
       "      <td>Biologist</td>\n",
       "      <td>1907-05-27</td>\n",
       "    </tr>\n",
       "  </tbody>\n",
       "</table>\n",
       "</div>"
      ],
      "text/plain": [
       "                   Name        Born        Died  Age    Occupation   BornDate\n",
       "0     Rosaline Franklin  1920-07-25  1958-04-16   37       Chemist 1920-07-25\n",
       "1        William Gosset  1876-06-13  1937-10-16   61  Statistician 1876-06-13\n",
       "2  Florence Nightingale  1820-05-12  1910-08-13   90         Nurse 1820-05-12\n",
       "3           Marie Curie  1867-11-07  1934-07-04   66       Chemist 1867-11-07\n",
       "4         Rachel Carson  1907-05-27  1964-04-14   56     Biologist 1907-05-27"
      ]
     },
     "execution_count": 80,
     "metadata": {},
     "output_type": "execute_result"
    }
   ],
   "source": [
    "scientists2['BornDate'] = born_date\n",
    "scientists2.head()"
   ]
  },
  {
   "cell_type": "code",
   "execution_count": 82,
   "id": "f2e4403c",
   "metadata": {},
   "outputs": [
    {
     "name": "stdout",
     "output_type": "stream",
     "text": [
      "<class 'pandas.core.frame.DataFrame'>\n",
      "RangeIndex: 8 entries, 0 to 7\n",
      "Data columns (total 6 columns):\n",
      " #   Column      Non-Null Count  Dtype         \n",
      "---  ------      --------------  -----         \n",
      " 0   Name        8 non-null      object        \n",
      " 1   Born        8 non-null      object        \n",
      " 2   Died        8 non-null      object        \n",
      " 3   Age         8 non-null      int64         \n",
      " 4   Occupation  8 non-null      object        \n",
      " 5   BornDate    8 non-null      datetime64[ns]\n",
      "dtypes: datetime64[ns](1), int64(1), object(4)\n",
      "memory usage: 516.0+ bytes\n"
     ]
    }
   ],
   "source": [
    "scientists2.info()"
   ]
  },
  {
   "cell_type": "code",
   "execution_count": 84,
   "id": "4f239dab",
   "metadata": {},
   "outputs": [
    {
     "data": {
      "text/plain": [
       "0   1958-04-16\n",
       "1   1937-10-16\n",
       "2   1910-08-13\n",
       "3   1934-07-04\n",
       "4   1964-04-14\n",
       "5   1858-06-16\n",
       "6   1954-06-07\n",
       "7   1855-02-23\n",
       "Name: Died, dtype: datetime64[ns]"
      ]
     },
     "execution_count": 84,
     "metadata": {},
     "output_type": "execute_result"
    }
   ],
   "source": [
    "died_date = pd.to_datetime(scientists2['Died'], format = '%Y-%m-%d')\n",
    "died_date"
   ]
  },
  {
   "cell_type": "code",
   "execution_count": 86,
   "id": "190f8b8e",
   "metadata": {},
   "outputs": [
    {
     "name": "stdout",
     "output_type": "stream",
     "text": [
      "<class 'pandas.core.frame.DataFrame'>\n",
      "RangeIndex: 8 entries, 0 to 7\n",
      "Data columns (total 7 columns):\n",
      " #   Column      Non-Null Count  Dtype         \n",
      "---  ------      --------------  -----         \n",
      " 0   Name        8 non-null      object        \n",
      " 1   Born        8 non-null      object        \n",
      " 2   Died        8 non-null      object        \n",
      " 3   Age         8 non-null      int64         \n",
      " 4   Occupation  8 non-null      object        \n",
      " 5   BornDate    8 non-null      datetime64[ns]\n",
      " 6   DiedDate    8 non-null      datetime64[ns]\n",
      "dtypes: datetime64[ns](2), int64(1), object(4)\n",
      "memory usage: 580.0+ bytes\n"
     ]
    }
   ],
   "source": [
    "scientists2['DiedDate'] = died_date\n",
    "scientists2.info()"
   ]
  },
  {
   "cell_type": "code",
   "execution_count": 88,
   "id": "26ef72c5",
   "metadata": {},
   "outputs": [
    {
     "data": {
      "text/plain": [
       "dtype('<m8[ns]')"
      ]
     },
     "execution_count": 88,
     "metadata": {},
     "output_type": "execute_result"
    }
   ],
   "source": [
    "scientists2['age2'] = scientists2['DiedDate'] - scientists2['BornDate']\n",
    "scientists2['age2'].dtype"
   ]
  },
  {
   "cell_type": "code",
   "execution_count": 90,
   "id": "3263d6cd",
   "metadata": {},
   "outputs": [
    {
     "data": {
      "text/html": [
       "<div>\n",
       "<style scoped>\n",
       "    .dataframe tbody tr th:only-of-type {\n",
       "        vertical-align: middle;\n",
       "    }\n",
       "\n",
       "    .dataframe tbody tr th {\n",
       "        vertical-align: top;\n",
       "    }\n",
       "\n",
       "    .dataframe thead th {\n",
       "        text-align: right;\n",
       "    }\n",
       "</style>\n",
       "<table border=\"1\" class=\"dataframe\">\n",
       "  <thead>\n",
       "    <tr style=\"text-align: right;\">\n",
       "      <th></th>\n",
       "      <th>Name</th>\n",
       "      <th>Born</th>\n",
       "      <th>Died</th>\n",
       "      <th>Age</th>\n",
       "      <th>Occupation</th>\n",
       "      <th>BornDate</th>\n",
       "      <th>DiedDate</th>\n",
       "      <th>age2</th>\n",
       "    </tr>\n",
       "  </thead>\n",
       "  <tbody>\n",
       "    <tr>\n",
       "      <th>0</th>\n",
       "      <td>Rosaline Franklin</td>\n",
       "      <td>1920-07-25</td>\n",
       "      <td>1958-04-16</td>\n",
       "      <td>37</td>\n",
       "      <td>Chemist</td>\n",
       "      <td>1920-07-25</td>\n",
       "      <td>1958-04-16</td>\n",
       "      <td>37.0</td>\n",
       "    </tr>\n",
       "    <tr>\n",
       "      <th>1</th>\n",
       "      <td>William Gosset</td>\n",
       "      <td>1876-06-13</td>\n",
       "      <td>1937-10-16</td>\n",
       "      <td>61</td>\n",
       "      <td>Statistician</td>\n",
       "      <td>1876-06-13</td>\n",
       "      <td>1937-10-16</td>\n",
       "      <td>61.0</td>\n",
       "    </tr>\n",
       "    <tr>\n",
       "      <th>2</th>\n",
       "      <td>Florence Nightingale</td>\n",
       "      <td>1820-05-12</td>\n",
       "      <td>1910-08-13</td>\n",
       "      <td>90</td>\n",
       "      <td>Nurse</td>\n",
       "      <td>1820-05-12</td>\n",
       "      <td>1910-08-13</td>\n",
       "      <td>90.0</td>\n",
       "    </tr>\n",
       "    <tr>\n",
       "      <th>3</th>\n",
       "      <td>Marie Curie</td>\n",
       "      <td>1867-11-07</td>\n",
       "      <td>1934-07-04</td>\n",
       "      <td>66</td>\n",
       "      <td>Chemist</td>\n",
       "      <td>1867-11-07</td>\n",
       "      <td>1934-07-04</td>\n",
       "      <td>66.0</td>\n",
       "    </tr>\n",
       "    <tr>\n",
       "      <th>4</th>\n",
       "      <td>Rachel Carson</td>\n",
       "      <td>1907-05-27</td>\n",
       "      <td>1964-04-14</td>\n",
       "      <td>56</td>\n",
       "      <td>Biologist</td>\n",
       "      <td>1907-05-27</td>\n",
       "      <td>1964-04-14</td>\n",
       "      <td>56.0</td>\n",
       "    </tr>\n",
       "    <tr>\n",
       "      <th>5</th>\n",
       "      <td>John Snow</td>\n",
       "      <td>1813-03-15</td>\n",
       "      <td>1858-06-16</td>\n",
       "      <td>45</td>\n",
       "      <td>Physician</td>\n",
       "      <td>1813-03-15</td>\n",
       "      <td>1858-06-16</td>\n",
       "      <td>45.0</td>\n",
       "    </tr>\n",
       "    <tr>\n",
       "      <th>6</th>\n",
       "      <td>Alan Turing</td>\n",
       "      <td>1912-06-23</td>\n",
       "      <td>1954-06-07</td>\n",
       "      <td>41</td>\n",
       "      <td>Computer Scientist</td>\n",
       "      <td>1912-06-23</td>\n",
       "      <td>1954-06-07</td>\n",
       "      <td>41.0</td>\n",
       "    </tr>\n",
       "    <tr>\n",
       "      <th>7</th>\n",
       "      <td>Johann Gauss</td>\n",
       "      <td>1777-04-30</td>\n",
       "      <td>1855-02-23</td>\n",
       "      <td>77</td>\n",
       "      <td>Mathematician</td>\n",
       "      <td>1777-04-30</td>\n",
       "      <td>1855-02-23</td>\n",
       "      <td>77.0</td>\n",
       "    </tr>\n",
       "  </tbody>\n",
       "</table>\n",
       "</div>"
      ],
      "text/plain": [
       "                   Name        Born        Died  Age          Occupation  \\\n",
       "0     Rosaline Franklin  1920-07-25  1958-04-16   37             Chemist   \n",
       "1        William Gosset  1876-06-13  1937-10-16   61        Statistician   \n",
       "2  Florence Nightingale  1820-05-12  1910-08-13   90               Nurse   \n",
       "3           Marie Curie  1867-11-07  1934-07-04   66             Chemist   \n",
       "4         Rachel Carson  1907-05-27  1964-04-14   56           Biologist   \n",
       "5             John Snow  1813-03-15  1858-06-16   45           Physician   \n",
       "6           Alan Turing  1912-06-23  1954-06-07   41  Computer Scientist   \n",
       "7          Johann Gauss  1777-04-30  1855-02-23   77       Mathematician   \n",
       "\n",
       "    BornDate   DiedDate  age2  \n",
       "0 1920-07-25 1958-04-16  37.0  \n",
       "1 1876-06-13 1937-10-16  61.0  \n",
       "2 1820-05-12 1910-08-13  90.0  \n",
       "3 1867-11-07 1934-07-04  66.0  \n",
       "4 1907-05-27 1964-04-14  56.0  \n",
       "5 1813-03-15 1858-06-16  45.0  \n",
       "6 1912-06-23 1954-06-07  41.0  \n",
       "7 1777-04-30 1855-02-23  77.0  "
      ]
     },
     "execution_count": 90,
     "metadata": {},
     "output_type": "execute_result"
    }
   ],
   "source": [
    "import numpy as np\n",
    "scientists2['age2'] = (scientists2['age2'].dt.days/365).apply(np.floor)\n",
    "scientists2"
   ]
  },
  {
   "cell_type": "code",
   "execution_count": 92,
   "id": "b0f66a93",
   "metadata": {},
   "outputs": [
    {
     "data": {
      "text/plain": [
       "0   1958-04-16\n",
       "1   1937-10-16\n",
       "2   1910-08-13\n",
       "3   1934-07-04\n",
       "4   1964-04-14\n",
       "5   1858-06-16\n",
       "6   1954-06-07\n",
       "7   1855-02-23\n",
       "Name: DiedDate, dtype: datetime64[ns]"
      ]
     },
     "execution_count": 92,
     "metadata": {},
     "output_type": "execute_result"
    }
   ],
   "source": [
    "scientists2['DiedDate']"
   ]
  },
  {
   "cell_type": "markdown",
   "id": "4167b4d8",
   "metadata": {},
   "source": [
    "1. 각 assign을 분리하여 순차적으로 처리: age2_assign을 먼저 생성하고, 그 이후에 age2_divide365_assign을 생성해야 한다.\n",
    "** .assign()은 새로운 DataFrame을 반환하는 메서드이므로, assign 할 값을 분리 및 생성한 후, 매번 원본DataFrame에 결과를 덮어써야 한다.<br>\n",
    "2. 분리 및 순차적 처리"
   ]
  },
  {
   "cell_type": "code",
   "execution_count": 95,
   "id": "679c824c",
   "metadata": {},
   "outputs": [],
   "source": [
    "# 1-1) \n",
    "scientists2 = scientists2.assign(\n",
    "    age2_assign = scientists2['DiedDate'] - scientists2['BornDate']\n",
    ")"
   ]
  },
  {
   "cell_type": "code",
   "execution_count": 97,
   "id": "a8bd094b",
   "metadata": {},
   "outputs": [],
   "source": [
    "# 1-2)\n",
    "scientists2 = scientists2.assign(\n",
    "    age2_divide365_assign = (scientists2['age2_assign'].dt.days /365).apply(np.floor)\n",
    ")"
   ]
  },
  {
   "cell_type": "code",
   "execution_count": 99,
   "id": "6f969688",
   "metadata": {},
   "outputs": [],
   "source": [
    "# 2) \n",
    "# 이 코드는 .assign()이 한 번만 사용됨\n",
    "# 먼저 할당한 age2_assign에 값을 할당한 후 해당 변수를 다시 사용하지 않고 수식을 입력했기 떄문에 keyerro 발생없이 실행 가능\n",
    "\n",
    "scientists2 = scientists2.assign(\n",
    "    age2_assign = scientists2['DiedDate'] - scientists2['BornDate'],\n",
    "    age2_divide365_assign = ((scientists2['DiedDate'] - scientists2['BornDate']).dt.days / 365).apply(np.floor)\n",
    ")"
   ]
  },
  {
   "cell_type": "markdown",
   "id": "27661979",
   "metadata": {},
   "source": [
    "#### 2-5. 열 삭제"
   ]
  },
  {
   "cell_type": "code",
   "execution_count": 102,
   "id": "ca104027",
   "metadata": {},
   "outputs": [
    {
     "data": {
      "text/plain": [
       "Index(['Name', 'Born', 'Died', 'Age', 'Occupation', 'BornDate', 'DiedDate',\n",
       "       'age2', 'age2_assign', 'age2_divide365_assign'],\n",
       "      dtype='object')"
      ]
     },
     "execution_count": 102,
     "metadata": {},
     "output_type": "execute_result"
    }
   ],
   "source": [
    "scientists2.columns"
   ]
  },
  {
   "cell_type": "code",
   "execution_count": 104,
   "id": "0523c157",
   "metadata": {},
   "outputs": [
    {
     "data": {
      "text/html": [
       "<div>\n",
       "<style scoped>\n",
       "    .dataframe tbody tr th:only-of-type {\n",
       "        vertical-align: middle;\n",
       "    }\n",
       "\n",
       "    .dataframe tbody tr th {\n",
       "        vertical-align: top;\n",
       "    }\n",
       "\n",
       "    .dataframe thead th {\n",
       "        text-align: right;\n",
       "    }\n",
       "</style>\n",
       "<table border=\"1\" class=\"dataframe\">\n",
       "  <thead>\n",
       "    <tr style=\"text-align: right;\">\n",
       "      <th></th>\n",
       "      <th>Name</th>\n",
       "      <th>Born</th>\n",
       "      <th>Died</th>\n",
       "      <th>Occupation</th>\n",
       "      <th>BornDate</th>\n",
       "      <th>DiedDate</th>\n",
       "      <th>age2</th>\n",
       "      <th>age2_assign</th>\n",
       "      <th>age2_divide365_assign</th>\n",
       "    </tr>\n",
       "  </thead>\n",
       "  <tbody>\n",
       "    <tr>\n",
       "      <th>0</th>\n",
       "      <td>Rosaline Franklin</td>\n",
       "      <td>1920-07-25</td>\n",
       "      <td>1958-04-16</td>\n",
       "      <td>Chemist</td>\n",
       "      <td>1920-07-25</td>\n",
       "      <td>1958-04-16</td>\n",
       "      <td>37.0</td>\n",
       "      <td>13779 days</td>\n",
       "      <td>37.0</td>\n",
       "    </tr>\n",
       "    <tr>\n",
       "      <th>1</th>\n",
       "      <td>William Gosset</td>\n",
       "      <td>1876-06-13</td>\n",
       "      <td>1937-10-16</td>\n",
       "      <td>Statistician</td>\n",
       "      <td>1876-06-13</td>\n",
       "      <td>1937-10-16</td>\n",
       "      <td>61.0</td>\n",
       "      <td>22404 days</td>\n",
       "      <td>61.0</td>\n",
       "    </tr>\n",
       "    <tr>\n",
       "      <th>2</th>\n",
       "      <td>Florence Nightingale</td>\n",
       "      <td>1820-05-12</td>\n",
       "      <td>1910-08-13</td>\n",
       "      <td>Nurse</td>\n",
       "      <td>1820-05-12</td>\n",
       "      <td>1910-08-13</td>\n",
       "      <td>90.0</td>\n",
       "      <td>32964 days</td>\n",
       "      <td>90.0</td>\n",
       "    </tr>\n",
       "    <tr>\n",
       "      <th>3</th>\n",
       "      <td>Marie Curie</td>\n",
       "      <td>1867-11-07</td>\n",
       "      <td>1934-07-04</td>\n",
       "      <td>Chemist</td>\n",
       "      <td>1867-11-07</td>\n",
       "      <td>1934-07-04</td>\n",
       "      <td>66.0</td>\n",
       "      <td>24345 days</td>\n",
       "      <td>66.0</td>\n",
       "    </tr>\n",
       "    <tr>\n",
       "      <th>4</th>\n",
       "      <td>Rachel Carson</td>\n",
       "      <td>1907-05-27</td>\n",
       "      <td>1964-04-14</td>\n",
       "      <td>Biologist</td>\n",
       "      <td>1907-05-27</td>\n",
       "      <td>1964-04-14</td>\n",
       "      <td>56.0</td>\n",
       "      <td>20777 days</td>\n",
       "      <td>56.0</td>\n",
       "    </tr>\n",
       "    <tr>\n",
       "      <th>5</th>\n",
       "      <td>John Snow</td>\n",
       "      <td>1813-03-15</td>\n",
       "      <td>1858-06-16</td>\n",
       "      <td>Physician</td>\n",
       "      <td>1813-03-15</td>\n",
       "      <td>1858-06-16</td>\n",
       "      <td>45.0</td>\n",
       "      <td>16529 days</td>\n",
       "      <td>45.0</td>\n",
       "    </tr>\n",
       "    <tr>\n",
       "      <th>6</th>\n",
       "      <td>Alan Turing</td>\n",
       "      <td>1912-06-23</td>\n",
       "      <td>1954-06-07</td>\n",
       "      <td>Computer Scientist</td>\n",
       "      <td>1912-06-23</td>\n",
       "      <td>1954-06-07</td>\n",
       "      <td>41.0</td>\n",
       "      <td>15324 days</td>\n",
       "      <td>41.0</td>\n",
       "    </tr>\n",
       "    <tr>\n",
       "      <th>7</th>\n",
       "      <td>Johann Gauss</td>\n",
       "      <td>1777-04-30</td>\n",
       "      <td>1855-02-23</td>\n",
       "      <td>Mathematician</td>\n",
       "      <td>1777-04-30</td>\n",
       "      <td>1855-02-23</td>\n",
       "      <td>77.0</td>\n",
       "      <td>28422 days</td>\n",
       "      <td>77.0</td>\n",
       "    </tr>\n",
       "  </tbody>\n",
       "</table>\n",
       "</div>"
      ],
      "text/plain": [
       "                   Name        Born        Died          Occupation  \\\n",
       "0     Rosaline Franklin  1920-07-25  1958-04-16             Chemist   \n",
       "1        William Gosset  1876-06-13  1937-10-16        Statistician   \n",
       "2  Florence Nightingale  1820-05-12  1910-08-13               Nurse   \n",
       "3           Marie Curie  1867-11-07  1934-07-04             Chemist   \n",
       "4         Rachel Carson  1907-05-27  1964-04-14           Biologist   \n",
       "5             John Snow  1813-03-15  1858-06-16           Physician   \n",
       "6           Alan Turing  1912-06-23  1954-06-07  Computer Scientist   \n",
       "7          Johann Gauss  1777-04-30  1855-02-23       Mathematician   \n",
       "\n",
       "    BornDate   DiedDate  age2 age2_assign  age2_divide365_assign  \n",
       "0 1920-07-25 1958-04-16  37.0  13779 days                   37.0  \n",
       "1 1876-06-13 1937-10-16  61.0  22404 days                   61.0  \n",
       "2 1820-05-12 1910-08-13  90.0  32964 days                   90.0  \n",
       "3 1867-11-07 1934-07-04  66.0  24345 days                   66.0  \n",
       "4 1907-05-27 1964-04-14  56.0  20777 days                   56.0  \n",
       "5 1813-03-15 1858-06-16  45.0  16529 days                   45.0  \n",
       "6 1912-06-23 1954-06-07  41.0  15324 days                   41.0  \n",
       "7 1777-04-30 1855-02-23  77.0  28422 days                   77.0  "
      ]
     },
     "execution_count": 104,
     "metadata": {},
     "output_type": "execute_result"
    }
   ],
   "source": [
    "scientists2.drop(['Age'], axis = 'columns')"
   ]
  },
  {
   "cell_type": "markdown",
   "id": "3c6738fd",
   "metadata": {},
   "source": [
    "#### 2-6. 파일 저장하기"
   ]
  },
  {
   "cell_type": "markdown",
   "id": "b45fb76c",
   "metadata": {},
   "source": [
    "1. pickle로 저장하기\n",
    "2. python의 data file 형식 : binary save & read\n",
    "3. Series, DataFrame save\n",
    "4. csv, tsv, excel 지원\n",
    "5. to_csv(), read_csv()\n",
    "6. excel경우는 openxyl을 설치해야 함"
   ]
  },
  {
   "cell_type": "code",
   "execution_count": 108,
   "id": "3030045e",
   "metadata": {},
   "outputs": [
    {
     "data": {
      "text/plain": [
       "0       Rosaline Franklin\n",
       "1          William Gosset\n",
       "2    Florence Nightingale\n",
       "3             Marie Curie\n",
       "4           Rachel Carson\n",
       "5               John Snow\n",
       "6             Alan Turing\n",
       "7            Johann Gauss\n",
       "Name: Name, dtype: object"
      ]
     },
     "execution_count": 108,
     "metadata": {},
     "output_type": "execute_result"
    }
   ],
   "source": [
    "scientists2['Name']"
   ]
  },
  {
   "cell_type": "code",
   "execution_count": 110,
   "id": "5bdcc222",
   "metadata": {},
   "outputs": [],
   "source": [
    "# 괄호 안에 저장경로와 파일명 입력\n",
    "\n",
    "scientists2['Name'].to_pickle('../data/scientist2_name_series.pickle')"
   ]
  },
  {
   "cell_type": "code",
   "execution_count": 112,
   "id": "a318ff93",
   "metadata": {},
   "outputs": [
    {
     "name": "stdout",
     "output_type": "stream",
     "text": [
      "0       Rosaline Franklin\n",
      "1          William Gosset\n",
      "2    Florence Nightingale\n",
      "3             Marie Curie\n",
      "4           Rachel Carson\n",
      "5               John Snow\n",
      "6             Alan Turing\n",
      "7            Johann Gauss\n",
      "Name: Name, dtype: object\n"
     ]
    }
   ],
   "source": [
    "readSc = pd.read_pickle('../data/scientist2_name_series.pickle')\n",
    "print(readSc)"
   ]
  },
  {
   "cell_type": "code",
   "execution_count": 114,
   "id": "020157d8",
   "metadata": {},
   "outputs": [
    {
     "name": "stdout",
     "output_type": "stream",
     "text": [
      "Requirement already satisfied: openpyxl in c:\\users\\hhs\\anaconda3\\lib\\site-packages (3.1.5)\n",
      "Requirement already satisfied: et-xmlfile in c:\\users\\hhs\\anaconda3\\lib\\site-packages (from openpyxl) (1.1.0)\n",
      "Note: you may need to restart the kernel to use updated packages.\n"
     ]
    }
   ],
   "source": [
    "pip install openpyxl"
   ]
  },
  {
   "cell_type": "code",
   "execution_count": 116,
   "id": "78b6e81b",
   "metadata": {},
   "outputs": [
    {
     "name": "stdout",
     "output_type": "stream",
     "text": [
      "Rosaline Franklin\n"
     ]
    }
   ],
   "source": [
    "import openpyxl as pyxl\n",
    "\n",
    "# Excel 파일로 저장 (openpyxl 엔진을 사용)\n",
    "readXl = readSc.to_excel('../data/scientist2_name_series.xlsx', engine='openpyxl')\n",
    "\n",
    "# 저장한 Excel 파일을 다시 openpyxl을 이용하여 읽기\n",
    "from openpyxl import load_workbook\n",
    "\n",
    "# Excel 파일 불러오기\n",
    "sc2_wb = load_workbook('../data/scientist2_name_series.xlsx')\n",
    "ws = sc2_wb.active\n",
    "\n",
    "# 예시로 첫 번째 셀의 값 출력\n",
    "print(ws['B2'].value)"
   ]
  },
  {
   "cell_type": "code",
   "execution_count": 120,
   "id": "217b66fb-3ad1-4011-9812-c7c9bbe2ec55",
   "metadata": {},
   "outputs": [],
   "source": [
    "scientists2.to_csv('../data/scientist2_name_series.csv')"
   ]
  },
  {
   "cell_type": "code",
   "execution_count": 122,
   "id": "cc66f756-6654-4d23-9760-d82a53fda3ca",
   "metadata": {},
   "outputs": [
    {
     "data": {
      "text/plain": [
       "pandas.core.frame.DataFrame"
      ]
     },
     "execution_count": 122,
     "metadata": {},
     "output_type": "execute_result"
    }
   ],
   "source": [
    "scientists2_csv_df = pd.read_csv('../data/scientist2_name_series.csv')\n",
    "type(scientists2_csv_df)"
   ]
  },
  {
   "cell_type": "code",
   "execution_count": 124,
   "id": "18487bb8-3ab9-406a-9adf-b9cb299d9bb5",
   "metadata": {},
   "outputs": [
    {
     "data": {
      "text/html": [
       "<div>\n",
       "<style scoped>\n",
       "    .dataframe tbody tr th:only-of-type {\n",
       "        vertical-align: middle;\n",
       "    }\n",
       "\n",
       "    .dataframe tbody tr th {\n",
       "        vertical-align: top;\n",
       "    }\n",
       "\n",
       "    .dataframe thead th {\n",
       "        text-align: right;\n",
       "    }\n",
       "</style>\n",
       "<table border=\"1\" class=\"dataframe\">\n",
       "  <thead>\n",
       "    <tr style=\"text-align: right;\">\n",
       "      <th></th>\n",
       "      <th>Name</th>\n",
       "      <th>Born</th>\n",
       "      <th>Died</th>\n",
       "      <th>Age</th>\n",
       "      <th>Occupation</th>\n",
       "      <th>BornDate</th>\n",
       "      <th>DiedDate</th>\n",
       "      <th>age2</th>\n",
       "      <th>age2_assign</th>\n",
       "      <th>age2_divide365_assign</th>\n",
       "    </tr>\n",
       "  </thead>\n",
       "  <tbody>\n",
       "    <tr>\n",
       "      <th>0</th>\n",
       "      <td>Rosaline Franklin</td>\n",
       "      <td>1920-07-25</td>\n",
       "      <td>1958-04-16</td>\n",
       "      <td>37</td>\n",
       "      <td>Chemist</td>\n",
       "      <td>1920-07-25</td>\n",
       "      <td>1958-04-16</td>\n",
       "      <td>37.0</td>\n",
       "      <td>13779 days</td>\n",
       "      <td>37.0</td>\n",
       "    </tr>\n",
       "    <tr>\n",
       "      <th>1</th>\n",
       "      <td>William Gosset</td>\n",
       "      <td>1876-06-13</td>\n",
       "      <td>1937-10-16</td>\n",
       "      <td>61</td>\n",
       "      <td>Statistician</td>\n",
       "      <td>1876-06-13</td>\n",
       "      <td>1937-10-16</td>\n",
       "      <td>61.0</td>\n",
       "      <td>22404 days</td>\n",
       "      <td>61.0</td>\n",
       "    </tr>\n",
       "    <tr>\n",
       "      <th>2</th>\n",
       "      <td>Florence Nightingale</td>\n",
       "      <td>1820-05-12</td>\n",
       "      <td>1910-08-13</td>\n",
       "      <td>90</td>\n",
       "      <td>Nurse</td>\n",
       "      <td>1820-05-12</td>\n",
       "      <td>1910-08-13</td>\n",
       "      <td>90.0</td>\n",
       "      <td>32964 days</td>\n",
       "      <td>90.0</td>\n",
       "    </tr>\n",
       "    <tr>\n",
       "      <th>3</th>\n",
       "      <td>Marie Curie</td>\n",
       "      <td>1867-11-07</td>\n",
       "      <td>1934-07-04</td>\n",
       "      <td>66</td>\n",
       "      <td>Chemist</td>\n",
       "      <td>1867-11-07</td>\n",
       "      <td>1934-07-04</td>\n",
       "      <td>66.0</td>\n",
       "      <td>24345 days</td>\n",
       "      <td>66.0</td>\n",
       "    </tr>\n",
       "    <tr>\n",
       "      <th>4</th>\n",
       "      <td>Rachel Carson</td>\n",
       "      <td>1907-05-27</td>\n",
       "      <td>1964-04-14</td>\n",
       "      <td>56</td>\n",
       "      <td>Biologist</td>\n",
       "      <td>1907-05-27</td>\n",
       "      <td>1964-04-14</td>\n",
       "      <td>56.0</td>\n",
       "      <td>20777 days</td>\n",
       "      <td>56.0</td>\n",
       "    </tr>\n",
       "    <tr>\n",
       "      <th>5</th>\n",
       "      <td>John Snow</td>\n",
       "      <td>1813-03-15</td>\n",
       "      <td>1858-06-16</td>\n",
       "      <td>45</td>\n",
       "      <td>Physician</td>\n",
       "      <td>1813-03-15</td>\n",
       "      <td>1858-06-16</td>\n",
       "      <td>45.0</td>\n",
       "      <td>16529 days</td>\n",
       "      <td>45.0</td>\n",
       "    </tr>\n",
       "    <tr>\n",
       "      <th>6</th>\n",
       "      <td>Alan Turing</td>\n",
       "      <td>1912-06-23</td>\n",
       "      <td>1954-06-07</td>\n",
       "      <td>41</td>\n",
       "      <td>Computer Scientist</td>\n",
       "      <td>1912-06-23</td>\n",
       "      <td>1954-06-07</td>\n",
       "      <td>41.0</td>\n",
       "      <td>15324 days</td>\n",
       "      <td>41.0</td>\n",
       "    </tr>\n",
       "    <tr>\n",
       "      <th>7</th>\n",
       "      <td>Johann Gauss</td>\n",
       "      <td>1777-04-30</td>\n",
       "      <td>1855-02-23</td>\n",
       "      <td>77</td>\n",
       "      <td>Mathematician</td>\n",
       "      <td>1777-04-30</td>\n",
       "      <td>1855-02-23</td>\n",
       "      <td>77.0</td>\n",
       "      <td>28422 days</td>\n",
       "      <td>77.0</td>\n",
       "    </tr>\n",
       "  </tbody>\n",
       "</table>\n",
       "</div>"
      ],
      "text/plain": [
       "                   Name        Born        Died  Age          Occupation  \\\n",
       "0     Rosaline Franklin  1920-07-25  1958-04-16   37             Chemist   \n",
       "1        William Gosset  1876-06-13  1937-10-16   61        Statistician   \n",
       "2  Florence Nightingale  1820-05-12  1910-08-13   90               Nurse   \n",
       "3           Marie Curie  1867-11-07  1934-07-04   66             Chemist   \n",
       "4         Rachel Carson  1907-05-27  1964-04-14   56           Biologist   \n",
       "5             John Snow  1813-03-15  1858-06-16   45           Physician   \n",
       "6           Alan Turing  1912-06-23  1954-06-07   41  Computer Scientist   \n",
       "7          Johann Gauss  1777-04-30  1855-02-23   77       Mathematician   \n",
       "\n",
       "    BornDate   DiedDate  age2 age2_assign  age2_divide365_assign  \n",
       "0 1920-07-25 1958-04-16  37.0  13779 days                   37.0  \n",
       "1 1876-06-13 1937-10-16  61.0  22404 days                   61.0  \n",
       "2 1820-05-12 1910-08-13  90.0  32964 days                   90.0  \n",
       "3 1867-11-07 1934-07-04  66.0  24345 days                   66.0  \n",
       "4 1907-05-27 1964-04-14  56.0  20777 days                   56.0  \n",
       "5 1813-03-15 1858-06-16  45.0  16529 days                   45.0  \n",
       "6 1912-06-23 1954-06-07  41.0  15324 days                   41.0  \n",
       "7 1777-04-30 1855-02-23  77.0  28422 days                   77.0  "
      ]
     },
     "execution_count": 124,
     "metadata": {},
     "output_type": "execute_result"
    }
   ],
   "source": [
    "scientists2.head(10)"
   ]
  },
  {
   "cell_type": "code",
   "execution_count": null,
   "id": "5025dbb4-4f01-4960-aa01-3b9de5a510d6",
   "metadata": {},
   "outputs": [],
   "source": [
    "# 사전형식과 데이터프레임의 변환"
   ]
  },
  {
   "cell_type": "code",
   "execution_count": 126,
   "id": "69f3f7b7-7c2d-4fcb-8941-1f01893c3ec3",
   "metadata": {
    "scrolled": true
   },
   "outputs": [
    {
     "data": {
      "text/plain": [
       "{'Name': {0: 'Rosaline Franklin',\n",
       "  1: 'William Gosset',\n",
       "  2: 'Florence Nightingale',\n",
       "  3: 'Marie Curie',\n",
       "  4: 'Rachel Carson',\n",
       "  5: 'John Snow',\n",
       "  6: 'Alan Turing',\n",
       "  7: 'Johann Gauss'},\n",
       " 'Born': {0: '1920-07-25',\n",
       "  1: '1876-06-13',\n",
       "  2: '1820-05-12',\n",
       "  3: '1867-11-07',\n",
       "  4: '1907-05-27',\n",
       "  5: '1813-03-15',\n",
       "  6: '1912-06-23',\n",
       "  7: '1777-04-30'},\n",
       " 'Died': {0: '1958-04-16',\n",
       "  1: '1937-10-16',\n",
       "  2: '1910-08-13',\n",
       "  3: '1934-07-04',\n",
       "  4: '1964-04-14',\n",
       "  5: '1858-06-16',\n",
       "  6: '1954-06-07',\n",
       "  7: '1855-02-23'},\n",
       " 'Age': {0: 37, 1: 61, 2: 90, 3: 66, 4: 56, 5: 45, 6: 41, 7: 77},\n",
       " 'Occupation': {0: 'Chemist',\n",
       "  1: 'Statistician',\n",
       "  2: 'Nurse',\n",
       "  3: 'Chemist',\n",
       "  4: 'Biologist',\n",
       "  5: 'Physician',\n",
       "  6: 'Computer Scientist',\n",
       "  7: 'Mathematician'},\n",
       " 'BornDate': {0: Timestamp('1920-07-25 00:00:00'),\n",
       "  1: Timestamp('1876-06-13 00:00:00'),\n",
       "  2: Timestamp('1820-05-12 00:00:00'),\n",
       "  3: Timestamp('1867-11-07 00:00:00'),\n",
       "  4: Timestamp('1907-05-27 00:00:00'),\n",
       "  5: Timestamp('1813-03-15 00:00:00'),\n",
       "  6: Timestamp('1912-06-23 00:00:00'),\n",
       "  7: Timestamp('1777-04-30 00:00:00')},\n",
       " 'DiedDate': {0: Timestamp('1958-04-16 00:00:00'),\n",
       "  1: Timestamp('1937-10-16 00:00:00'),\n",
       "  2: Timestamp('1910-08-13 00:00:00'),\n",
       "  3: Timestamp('1934-07-04 00:00:00'),\n",
       "  4: Timestamp('1964-04-14 00:00:00'),\n",
       "  5: Timestamp('1858-06-16 00:00:00'),\n",
       "  6: Timestamp('1954-06-07 00:00:00'),\n",
       "  7: Timestamp('1855-02-23 00:00:00')},\n",
       " 'age2': {0: 37.0,\n",
       "  1: 61.0,\n",
       "  2: 90.0,\n",
       "  3: 66.0,\n",
       "  4: 56.0,\n",
       "  5: 45.0,\n",
       "  6: 41.0,\n",
       "  7: 77.0},\n",
       " 'age2_assign': {0: Timedelta('13779 days 00:00:00'),\n",
       "  1: Timedelta('22404 days 00:00:00'),\n",
       "  2: Timedelta('32964 days 00:00:00'),\n",
       "  3: Timedelta('24345 days 00:00:00'),\n",
       "  4: Timedelta('20777 days 00:00:00'),\n",
       "  5: Timedelta('16529 days 00:00:00'),\n",
       "  6: Timedelta('15324 days 00:00:00'),\n",
       "  7: Timedelta('28422 days 00:00:00')},\n",
       " 'age2_divide365_assign': {0: 37.0,\n",
       "  1: 61.0,\n",
       "  2: 90.0,\n",
       "  3: 66.0,\n",
       "  4: 56.0,\n",
       "  5: 45.0,\n",
       "  6: 41.0,\n",
       "  7: 77.0}}"
      ]
     },
     "execution_count": 126,
     "metadata": {},
     "output_type": "execute_result"
    }
   ],
   "source": [
    "sci_dict = scientists2.to_dict()\n",
    "sci_dict"
   ]
  },
  {
   "cell_type": "code",
   "execution_count": 130,
   "id": "fa0a75b7-39aa-4291-9fde-fb11d98977a2",
   "metadata": {},
   "outputs": [
    {
     "data": {
      "text/html": [
       "<div>\n",
       "<style scoped>\n",
       "    .dataframe tbody tr th:only-of-type {\n",
       "        vertical-align: middle;\n",
       "    }\n",
       "\n",
       "    .dataframe tbody tr th {\n",
       "        vertical-align: top;\n",
       "    }\n",
       "\n",
       "    .dataframe thead th {\n",
       "        text-align: right;\n",
       "    }\n",
       "</style>\n",
       "<table border=\"1\" class=\"dataframe\">\n",
       "  <thead>\n",
       "    <tr style=\"text-align: right;\">\n",
       "      <th></th>\n",
       "      <th>Name</th>\n",
       "      <th>Born</th>\n",
       "      <th>Died</th>\n",
       "      <th>Age</th>\n",
       "      <th>Occupation</th>\n",
       "      <th>BornDate</th>\n",
       "      <th>DiedDate</th>\n",
       "      <th>age2</th>\n",
       "      <th>age2_assign</th>\n",
       "      <th>age2_divide365_assign</th>\n",
       "    </tr>\n",
       "  </thead>\n",
       "  <tbody>\n",
       "    <tr>\n",
       "      <th>0</th>\n",
       "      <td>Rosaline Franklin</td>\n",
       "      <td>1920-07-25</td>\n",
       "      <td>1958-04-16</td>\n",
       "      <td>37</td>\n",
       "      <td>Chemist</td>\n",
       "      <td>1920-07-25</td>\n",
       "      <td>1958-04-16</td>\n",
       "      <td>37.0</td>\n",
       "      <td>13779 days</td>\n",
       "      <td>37.0</td>\n",
       "    </tr>\n",
       "    <tr>\n",
       "      <th>1</th>\n",
       "      <td>William Gosset</td>\n",
       "      <td>1876-06-13</td>\n",
       "      <td>1937-10-16</td>\n",
       "      <td>61</td>\n",
       "      <td>Statistician</td>\n",
       "      <td>1876-06-13</td>\n",
       "      <td>1937-10-16</td>\n",
       "      <td>61.0</td>\n",
       "      <td>22404 days</td>\n",
       "      <td>61.0</td>\n",
       "    </tr>\n",
       "    <tr>\n",
       "      <th>2</th>\n",
       "      <td>Florence Nightingale</td>\n",
       "      <td>1820-05-12</td>\n",
       "      <td>1910-08-13</td>\n",
       "      <td>90</td>\n",
       "      <td>Nurse</td>\n",
       "      <td>1820-05-12</td>\n",
       "      <td>1910-08-13</td>\n",
       "      <td>90.0</td>\n",
       "      <td>32964 days</td>\n",
       "      <td>90.0</td>\n",
       "    </tr>\n",
       "    <tr>\n",
       "      <th>3</th>\n",
       "      <td>Marie Curie</td>\n",
       "      <td>1867-11-07</td>\n",
       "      <td>1934-07-04</td>\n",
       "      <td>66</td>\n",
       "      <td>Chemist</td>\n",
       "      <td>1867-11-07</td>\n",
       "      <td>1934-07-04</td>\n",
       "      <td>66.0</td>\n",
       "      <td>24345 days</td>\n",
       "      <td>66.0</td>\n",
       "    </tr>\n",
       "    <tr>\n",
       "      <th>4</th>\n",
       "      <td>Rachel Carson</td>\n",
       "      <td>1907-05-27</td>\n",
       "      <td>1964-04-14</td>\n",
       "      <td>56</td>\n",
       "      <td>Biologist</td>\n",
       "      <td>1907-05-27</td>\n",
       "      <td>1964-04-14</td>\n",
       "      <td>56.0</td>\n",
       "      <td>20777 days</td>\n",
       "      <td>56.0</td>\n",
       "    </tr>\n",
       "    <tr>\n",
       "      <th>5</th>\n",
       "      <td>John Snow</td>\n",
       "      <td>1813-03-15</td>\n",
       "      <td>1858-06-16</td>\n",
       "      <td>45</td>\n",
       "      <td>Physician</td>\n",
       "      <td>1813-03-15</td>\n",
       "      <td>1858-06-16</td>\n",
       "      <td>45.0</td>\n",
       "      <td>16529 days</td>\n",
       "      <td>45.0</td>\n",
       "    </tr>\n",
       "    <tr>\n",
       "      <th>6</th>\n",
       "      <td>Alan Turing</td>\n",
       "      <td>1912-06-23</td>\n",
       "      <td>1954-06-07</td>\n",
       "      <td>41</td>\n",
       "      <td>Computer Scientist</td>\n",
       "      <td>1912-06-23</td>\n",
       "      <td>1954-06-07</td>\n",
       "      <td>41.0</td>\n",
       "      <td>15324 days</td>\n",
       "      <td>41.0</td>\n",
       "    </tr>\n",
       "    <tr>\n",
       "      <th>7</th>\n",
       "      <td>Johann Gauss</td>\n",
       "      <td>1777-04-30</td>\n",
       "      <td>1855-02-23</td>\n",
       "      <td>77</td>\n",
       "      <td>Mathematician</td>\n",
       "      <td>1777-04-30</td>\n",
       "      <td>1855-02-23</td>\n",
       "      <td>77.0</td>\n",
       "      <td>28422 days</td>\n",
       "      <td>77.0</td>\n",
       "    </tr>\n",
       "  </tbody>\n",
       "</table>\n",
       "</div>"
      ],
      "text/plain": [
       "                   Name        Born        Died  Age          Occupation  \\\n",
       "0     Rosaline Franklin  1920-07-25  1958-04-16   37             Chemist   \n",
       "1        William Gosset  1876-06-13  1937-10-16   61        Statistician   \n",
       "2  Florence Nightingale  1820-05-12  1910-08-13   90               Nurse   \n",
       "3           Marie Curie  1867-11-07  1934-07-04   66             Chemist   \n",
       "4         Rachel Carson  1907-05-27  1964-04-14   56           Biologist   \n",
       "5             John Snow  1813-03-15  1858-06-16   45           Physician   \n",
       "6           Alan Turing  1912-06-23  1954-06-07   41  Computer Scientist   \n",
       "7          Johann Gauss  1777-04-30  1855-02-23   77       Mathematician   \n",
       "\n",
       "    BornDate   DiedDate  age2 age2_assign  age2_divide365_assign  \n",
       "0 1920-07-25 1958-04-16  37.0  13779 days                   37.0  \n",
       "1 1876-06-13 1937-10-16  61.0  22404 days                   61.0  \n",
       "2 1820-05-12 1910-08-13  90.0  32964 days                   90.0  \n",
       "3 1867-11-07 1934-07-04  66.0  24345 days                   66.0  \n",
       "4 1907-05-27 1964-04-14  56.0  20777 days                   56.0  \n",
       "5 1813-03-15 1858-06-16  45.0  16529 days                   45.0  \n",
       "6 1912-06-23 1954-06-07  41.0  15324 days                   41.0  \n",
       "7 1777-04-30 1855-02-23  77.0  28422 days                   77.0  "
      ]
     },
     "execution_count": 130,
     "metadata": {},
     "output_type": "execute_result"
    }
   ],
   "source": [
    "sci_dict_df = pd.DataFrame.from_dict(sci_dict)\n",
    "sci_dict_df"
   ]
  },
  {
   "cell_type": "code",
   "execution_count": 132,
   "id": "50a62b54-8e4c-4402-832b-dfed611d5f49",
   "metadata": {},
   "outputs": [
    {
     "data": {
      "text/plain": [
       "str"
      ]
     },
     "execution_count": 132,
     "metadata": {},
     "output_type": "execute_result"
    }
   ],
   "source": [
    "# Dataframe to json\n",
    "\n",
    "sci_json = scientists2.to_json(orient = 'records', indent = 2 , date_format = 'iso')\n",
    "\n",
    "type(sci_json)"
   ]
  },
  {
   "cell_type": "code",
   "execution_count": 134,
   "id": "f8c4256d-b162-4b94-aef0-e71c81dec996",
   "metadata": {
    "scrolled": true
   },
   "outputs": [
    {
     "name": "stdout",
     "output_type": "stream",
     "text": [
      "('[\\n'\n",
      " '  {\\n'\n",
      " '    \"Name\":\"Rosaline Franklin\",\\n'\n",
      " '    \"Born\":\"1920-07-25\",\\n'\n",
      " '    \"Died\":\"1958-04-16\",\\n'\n",
      " '    \"Age\":37,\\n'\n",
      " '    \"Occupation\":\"Chemist\",\\n'\n",
      " '    \"BornDate\":\"1920-07-25T00:00:00.000\",\\n'\n",
      " '    \"DiedDate\":\"1958-04-16T00:00:00.000\",\\n'\n",
      " '    \"age2\":37.0,\\n'\n",
      " '    \"age2_assign\":\"P13779DT0H0M0S\",\\n'\n",
      " '    \"age2_divide365_assign\":37.0\\n'\n",
      " '  },\\n'\n",
      " '  {\\n'\n",
      " '    \"Name\":\"William Gosset\",\\n'\n",
      " '    \"Born\":\"1876-06-13\",\\n'\n",
      " '    \"Died\":\"1937-10-16\",\\n'\n",
      " '    \"Age\":61,\\n'\n",
      " '    \"Occupation\":\"Statistician\",\\n'\n",
      " '    \"BornDate\":\"1876-06-13T00:00:00.000\",\\n'\n",
      " '    \"DiedDate\":\"1937-10-16T00:00:00.000\",\\n'\n",
      " '    \"age2\":61.0,\\n'\n",
      " '    \"age2_assign\":\"P22404DT0H0M0S\",\\n'\n",
      " '    \"age2_divide365_assign\":61.0\\n'\n",
      " '  },\\n'\n",
      " '  {\\n'\n",
      " '    \"Name\":\"Florence Nightingale\",\\n'\n",
      " '    \"Born\":\"1820-05-12\",\\n'\n",
      " '    \"Died\":\"1910-08-13\",\\n'\n",
      " '    \"Age\":90,\\n'\n",
      " '    \"Occupation\":\"Nurse\",\\n'\n",
      " '    \"BornDate\":\"1820-05-12T00:00:00.000\",\\n'\n",
      " '    \"DiedDate\":\"1910-08-13T00:00:00.000\",\\n'\n",
      " '    \"age2\":90.0,\\n'\n",
      " '    \"age2_assign\":\"P32964DT0H0M0S\",\\n'\n",
      " '    \"age2_divide365_assign\":90.0\\n'\n",
      " '  },\\n'\n",
      " '  {\\n'\n",
      " '    \"Name\":\"Marie Curie\",\\n'\n",
      " '    \"Born\":\"1867-11-07\",\\n'\n",
      " '    \"Died\":\"1934-07-04\",\\n'\n",
      " '    \"Age\":66,\\n'\n",
      " '    \"Occupation\":\"Chemist\",\\n'\n",
      " '    \"BornDate\":\"1867-11-07T00:00:00.000\",\\n'\n",
      " '    \"DiedDate\":\"1934-07-04T00:00:00.000\",\\n'\n",
      " '    \"age2\":66.0,\\n'\n",
      " '    \"age2_assign\":\"P24345DT0H0M0S\",\\n'\n",
      " '    \"age2_divide365_assign\":66.0\\n'\n",
      " '  },\\n'\n",
      " '  {\\n'\n",
      " '    \"Name\":\"Rachel Carson\",\\n'\n",
      " '    \"Born\":\"1907-05-27\",\\n'\n",
      " '    \"Died\":\"1964-04-14\",\\n'\n",
      " '    \"Age\":56,\\n'\n",
      " '    \"Occupation\":\"Biologist\",\\n'\n",
      " '    \"BornDate\":\"1907-05-27T00:00:00.000\",\\n'\n",
      " '    \"DiedDate\":\"1964-04-14T00:00:00.000\",\\n'\n",
      " '    \"age2\":56.0,\\n'\n",
      " '    \"age2_assign\":\"P20777DT0H0M0S\",\\n'\n",
      " '    \"age2_divide365_assign\":56.0\\n'\n",
      " '  },\\n'\n",
      " '  {\\n'\n",
      " '    \"Name\":\"John Snow\",\\n'\n",
      " '    \"Born\":\"1813-03-15\",\\n'\n",
      " '    \"Died\":\"1858-06-16\",\\n'\n",
      " '    \"Age\":45,\\n'\n",
      " '    \"Occupation\":\"Physician\",\\n'\n",
      " '    \"BornDate\":\"1813-03-15T00:00:00.000\",\\n'\n",
      " '    \"DiedDate\":\"1858-06-16T00:00:00.000\",\\n'\n",
      " '    \"age2\":45.0,\\n'\n",
      " '    \"age2_assign\":\"P16529DT0H0M0S\",\\n'\n",
      " '    \"age2_divide365_assign\":45.0\\n'\n",
      " '  },\\n'\n",
      " '  {\\n'\n",
      " '    \"Name\":\"Alan Turing\",\\n'\n",
      " '    \"Born\":\"1912-06-23\",\\n'\n",
      " '    \"Died\":\"1954-06-07\",\\n'\n",
      " '    \"Age\":41,\\n'\n",
      " '    \"Occupation\":\"Computer Scientist\",\\n'\n",
      " '    \"BornDate\":\"1912-06-23T00:00:00.000\",\\n'\n",
      " '    \"DiedDate\":\"1954-06-07T00:00:00.000\",\\n'\n",
      " '    \"age2\":41.0,\\n'\n",
      " '    \"age2_assign\":\"P15324DT0H0M0S\",\\n'\n",
      " '    \"age2_divide365_assign\":41.0\\n'\n",
      " '  },\\n'\n",
      " '  {\\n'\n",
      " '    \"Name\":\"Johann Gauss\",\\n'\n",
      " '    \"Born\":\"1777-04-30\",\\n'\n",
      " '    \"Died\":\"1855-02-23\",\\n'\n",
      " '    \"Age\":77,\\n'\n",
      " '    \"Occupation\":\"Mathematician\",\\n'\n",
      " '    \"BornDate\":\"1777-04-30T00:00:00.000\",\\n'\n",
      " '    \"DiedDate\":\"1855-02-23T00:00:00.000\",\\n'\n",
      " '    \"age2\":77.0,\\n'\n",
      " '    \"age2_assign\":\"P28422DT0H0M0S\",\\n'\n",
      " '    \"age2_divide365_assign\":77.0\\n'\n",
      " '  }\\n'\n",
      " ']')\n"
     ]
    }
   ],
   "source": [
    "#raw 파일의 데이터 출력 형식을 지정할 수 있다.\n",
    "\n",
    "import pprint\n",
    "pprint.pprint(sci_json)"
   ]
  },
  {
   "cell_type": "code",
   "execution_count": 136,
   "id": "2ca68afc-db49-442c-becf-2af41851a5d4",
   "metadata": {},
   "outputs": [
    {
     "name": "stderr",
     "output_type": "stream",
     "text": [
      "C:\\Users\\HHS\\AppData\\Local\\Temp\\ipykernel_19264\\2795305347.py:4: FutureWarning: Passing literal json to 'read_json' is deprecated and will be removed in a future version. To read from a literal string, wrap it in a 'StringIO' object.\n",
      "  df_json = pd.read_json(sci_json)\n"
     ]
    }
   ],
   "source": [
    "# json의 dataframe 생성\n",
    "# dataframe을 이용해 다양한 파일의 형식으로 변환\n",
    "\n",
    "df_json = pd.read_json(sci_json)"
   ]
  }
 ],
 "metadata": {
  "kernelspec": {
   "display_name": "Python 3 (ipykernel)",
   "language": "python",
   "name": "python3"
  },
  "language_info": {
   "codemirror_mode": {
    "name": "ipython",
    "version": 3
   },
   "file_extension": ".py",
   "mimetype": "text/x-python",
   "name": "python",
   "nbconvert_exporter": "python",
   "pygments_lexer": "ipython3",
   "version": "3.12.7"
  }
 },
 "nbformat": 4,
 "nbformat_minor": 5
}
